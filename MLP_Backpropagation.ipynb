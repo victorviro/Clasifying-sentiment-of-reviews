{
  "nbformat": 4,
  "nbformat_minor": 0,
  "metadata": {
    "colab": {
      "name": "Copia de MLP_Backpropagation_mnist_fasshion.ipynb",
      "provenance": [],
      "collapsed_sections": [],
      "authorship_tag": "ABX9TyNhHATMnuACOsEq+R7giPt1",
      "include_colab_link": true
    },
    "kernelspec": {
      "name": "python3",
      "display_name": "Python 3"
    }
  },
  "cells": [
    {
      "cell_type": "markdown",
      "metadata": {
        "id": "view-in-github",
        "colab_type": "text"
      },
      "source": [
        "<a href=\"https://colab.research.google.com/github/victorviro/Clasifying-sentiment-of-reviews/blob/master/MLP_Backpropagation.ipynb\" target=\"_parent\"><img src=\"https://colab.research.google.com/assets/colab-badge.svg\" alt=\"Open In Colab\"/></a>"
      ]
    },
    {
      "cell_type": "code",
      "metadata": {
        "id": "7rgAk6iudSUT",
        "colab_type": "code",
        "colab": {}
      },
      "source": [
        ""
      ],
      "execution_count": 0,
      "outputs": []
    },
    {
      "cell_type": "markdown",
      "metadata": {
        "id": "_cctRvJDdbt2",
        "colab_type": "text"
      },
      "source": [
        "# Multi-layer Perceptron and Backpropagation"
      ]
    },
    {
      "cell_type": "markdown",
      "metadata": {
        "id": "ikTCJYrHs5B_",
        "colab_type": "text"
      },
      "source": [
        "## Multi-layer Perceptron "
      ]
    },
    {
      "cell_type": "markdown",
      "metadata": {
        "id": "hFFMDpggdmmL",
        "colab_type": "text"
      },
      "source": [
        "An MLP is composed of one input layer, one or more hidden layers of [artificial neurons](https://en.wikipedia.org/wiki/Artificial_neuron)(particularly TLUs or threshold logic units) and one final layer of TLUs called the output layer. Every layer except the output layer includes a bias neuron and is fully connected to the next layer.\n",
        "\n",
        "\n",
        "\n",
        "![texto alternativo](https://www.oreilly.com/library/view/getting-started-with/9781786468574/graphics/B05474_04_05.jpg)\n",
        "\n",
        "The signal flows only in one direction(from the inputs to the outputs), so this architecture is an example of a feedforward neural network\n",
        "\n",
        "When an ANN contains a lot of hidden layers is known as a deep neural network and these networks are the base of the study of Deep learning, and more generally models containing deep stacks of computations.\n",
        "\n",
        "The interest for these networks begun in 1986 when the backpropagation training algorithm was introduced. \n",
        "\n",
        "\n"
      ]
    },
    {
      "cell_type": "markdown",
      "metadata": {
        "id": "__NuADijs_wM",
        "colab_type": "text"
      },
      "source": [
        "## Backpropagation\n",
        "\n",
        "The backpropagation algorithm is based in two passes through the network(one forward, one backward). Let's see it in detail.\n",
        "\n",
        "\n",
        "- It handles one mini-batch at a time, this is, it goes through to the full training set multiple times. Each pass is an epoch.\n",
        "\n",
        "\n",
        "- Each mini-batch is passed to the input layer, which sends it to the first hidden layer. The computes the output of all the neurons in this layer and passes the result on to the next layer. This process is repeated until getting the output of the last layer. This is the forward pass. It is like making a prediction, except all intermediate results are preserved for the backward pass.\n",
        "\n",
        "\n",
        "- The algorithm measures the network's output error, it uses a loss function that compares the desired output and the actual output of the network and returns some measure of the error.\n",
        "\n",
        "- Then it goes through each layer in reverse(backward pass) computing how much each output connection contributed to the error(applying chain rule) and finally tweaks the weights of the connections to reduce the error(Gradient Descent step).\n",
        "\n",
        "![texto alternativo](https://i.stack.imgur.com/7Ui1C.png)\n",
        "\n",
        "Note: It is important to initialize all the hidden layer's connection weight randomly.\n",
        "\n",
        "The authors of this algorithm replaced the step function with the logistic function, which has a well-defined nonzero derivative, allowing Gradient Descent to make progress at every step. Backpropagation works well with other activation functions as well, like hyperbolic tangent function, Relu...\n",
        "\n",
        "But why do we need activation functions between layers?. If you apply chain rule on several linear transformations you will get a linear transformation. If you do not put these functions, a deep stack of layers is equivalent to a single layer and you cannot solve very complex problems with that. The purpose of the activation function is to introduce non-linearity into the network."
      ]
    },
    {
      "cell_type": "code",
      "metadata": {
        "id": "YWxK0Mntdb9K",
        "colab_type": "code",
        "colab": {}
      },
      "source": [
        ""
      ],
      "execution_count": 0,
      "outputs": []
    },
    {
      "cell_type": "markdown",
      "metadata": {
        "id": "uZII9rUndcHc",
        "colab_type": "text"
      },
      "source": [
        "# Regression MLPs\n",
        "\n",
        "MLPs can be used for regression tasks. For univariate regression(predict a single value) you need a single output neuron(the predicted value). For multivariate regression(predict multiple values at once), you need one output neuron per output dimension.\n",
        "\n",
        "In general, when building an MLP for regression it is not usually used activation function for the output neurons(they are free to output any range of values). However, if you want that outputs will always be positive, you can use the ReLU activation function, or softplus in the output layer. Finally, if you want that the predictions will fall within a given range of values you can use the logistic function or hyperbolic tangent, and scale the labels to the adequate range.\n",
        "\n",
        "The loss function typically is the mean squared error, but there are others like mean absolute error or Huber loss(a good choice if the training set has a lot of outliers).\n"
      ]
    },
    {
      "cell_type": "markdown",
      "metadata": {
        "id": "Jga8m59p9PjJ",
        "colab_type": "text"
      },
      "source": [
        "# Clasification MLPs\n",
        "\n",
        "MLPs can be used for classification tasks. For binary classification, you need a single output neuron using the logistic activation function(the predicted value will be a number between 0 and 1, which you can interpret as the estimated probability of the positive class).\n",
        "\n",
        "For multi-label binary classification, for example, predicts whether the incoming email is spam or no-spam, and simultaneously predicts whether it is an urgent or non-urgent email. In this case, you would need two output neurons, both using the logistic function: the first output will be the probability estimated that the email is spam and the second the probability estimated that the email is urgent. Generally, you can use one output neuron for each positive class.\n",
        "\n",
        "For multiclass classification, this is when target variable can belong to more than two labels(for example classes 0 through 9 for digit image classification), you need to have one output neuron per class and you can use the softmax activation function for the whole output layer(softmax activation function ensure that all estimated probabilities are between 0 and 1).\n",
        "\n",
        "Regarding the loss function, we are predicting probability distributions, the cross-entropy is generally a good option."
      ]
    },
    {
      "cell_type": "code",
      "metadata": {
        "id": "sNfFWL8sdcU6",
        "colab_type": "code",
        "colab": {}
      },
      "source": [
        ""
      ],
      "execution_count": 0,
      "outputs": []
    },
    {
      "cell_type": "markdown",
      "metadata": {
        "id": "ahxS3gRPAz0J",
        "colab_type": "text"
      },
      "source": [
        "# MNIST fashion dataset\n",
        "\n",
        "![texto alternativo](https://camo.githubusercontent.com/a2e4e2eb7beebba0496cdf0bd08761636b6ecddd/68747470733a2f2f692e6779617a6f2e636f6d2f30666237313934393761386236366164393938643132333561663237643930312e706e67)"
      ]
    },
    {
      "cell_type": "code",
      "metadata": {
        "id": "le3Lrps5dchz",
        "colab_type": "code",
        "outputId": "837d7ad0-33f3-4678-e147-7f60a5c31264",
        "colab": {
          "base_uri": "https://localhost:8080/",
          "height": 228
        }
      },
      "source": [
        "import keras\n",
        "fashion_mnist = keras.datasets.fashion_mnist\n",
        "(X_train_full, y_train_full), (X_test, y_test) = fashion_mnist.load_data()"
      ],
      "execution_count": 1,
      "outputs": [
        {
          "output_type": "stream",
          "text": [
            "Using TensorFlow backend.\n"
          ],
          "name": "stderr"
        },
        {
          "output_type": "display_data",
          "data": {
            "text/html": [
              "<p style=\"color: red;\">\n",
              "The default version of TensorFlow in Colab will soon switch to TensorFlow 2.x.<br>\n",
              "We recommend you <a href=\"https://www.tensorflow.org/guide/migrate\" target=\"_blank\">upgrade</a> now \n",
              "or ensure your notebook will continue to use TensorFlow 1.x via the <code>%tensorflow_version 1.x</code> magic:\n",
              "<a href=\"https://colab.research.google.com/notebooks/tensorflow_version.ipynb\" target=\"_blank\">more info</a>.</p>\n"
            ],
            "text/plain": [
              "<IPython.core.display.HTML object>"
            ]
          },
          "metadata": {
            "tags": []
          }
        },
        {
          "output_type": "stream",
          "text": [
            "Downloading data from http://fashion-mnist.s3-website.eu-central-1.amazonaws.com/train-labels-idx1-ubyte.gz\n",
            "32768/29515 [=================================] - 0s 4us/step\n",
            "Downloading data from http://fashion-mnist.s3-website.eu-central-1.amazonaws.com/train-images-idx3-ubyte.gz\n",
            "26427392/26421880 [==============================] - 2s 0us/step\n",
            "Downloading data from http://fashion-mnist.s3-website.eu-central-1.amazonaws.com/t10k-labels-idx1-ubyte.gz\n",
            "8192/5148 [===============================================] - 0s 0us/step\n",
            "Downloading data from http://fashion-mnist.s3-website.eu-central-1.amazonaws.com/t10k-images-idx3-ubyte.gz\n",
            "4423680/4422102 [==============================] - 1s 0us/step\n"
          ],
          "name": "stdout"
        }
      ]
    },
    {
      "cell_type": "code",
      "metadata": {
        "id": "VcQAyTkmE-_u",
        "colab_type": "code",
        "outputId": "93495bac-0b86-4b1e-a8d8-544d68673824",
        "colab": {
          "base_uri": "https://localhost:8080/",
          "height": 35
        }
      },
      "source": [
        "print(X_train_full.shape)"
      ],
      "execution_count": 2,
      "outputs": [
        {
          "output_type": "stream",
          "text": [
            "(60000, 28, 28)\n"
          ],
          "name": "stdout"
        }
      ]
    },
    {
      "cell_type": "markdown",
      "metadata": {
        "id": "yvkeIOXNEvFp",
        "colab_type": "text"
      },
      "source": [
        "The dataset is already split into a training set and a test set.\n",
        "\n",
        "Since we are going to train the neural network using Gradient Descent, we must scale the input feature. We just scale the pixel intensity down to the 0-1 range by dividing them by 255.0."
      ]
    },
    {
      "cell_type": "code",
      "metadata": {
        "id": "xKR836EmdckV",
        "colab_type": "code",
        "colab": {}
      },
      "source": [
        "X_train_full = X_train_full / 255.0"
      ],
      "execution_count": 0,
      "outputs": []
    },
    {
      "cell_type": "markdown",
      "metadata": {
        "id": "ZFiALH-nFqj9",
        "colab_type": "text"
      },
      "source": [
        "We need the list of classes names "
      ]
    },
    {
      "cell_type": "code",
      "metadata": {
        "id": "oBTAMAuYdcm0",
        "colab_type": "code",
        "outputId": "e3944867-16ee-4bd9-8cc4-a094a9c75821",
        "colab": {
          "base_uri": "https://localhost:8080/",
          "height": 35
        }
      },
      "source": [
        "class_names = [\"T-shirt/top\", \"Trouser\", \"Pullover\", \"Dress\", \"Coat\",\n",
        "               \"Sandal\", \"Shirt\", \"Sneaker\", \"Bag\", \"Ankle boot\"]\n",
        "\n",
        "# let's see what class represent the first image\n",
        "class_names[y_train_full[0]]"
      ],
      "execution_count": 4,
      "outputs": [
        {
          "output_type": "execute_result",
          "data": {
            "text/plain": [
              "'Ankle boot'"
            ]
          },
          "metadata": {
            "tags": []
          },
          "execution_count": 4
        }
      ]
    },
    {
      "cell_type": "markdown",
      "metadata": {
        "id": "_gp3yyYbGWdq",
        "colab_type": "text"
      },
      "source": [
        "### Creating a model using Sequential API\n",
        "Now let’s build the neural network. It is a classification MLP with two hidden layers"
      ]
    },
    {
      "cell_type": "code",
      "metadata": {
        "id": "haSCK_lFdcpt",
        "colab_type": "code",
        "colab": {}
      },
      "source": [
        "model = keras.models.Sequential([\n",
        "    keras.layers.Flatten(input_shape=[28,28]),\n",
        "    keras.layers.Dense(300, activation=\"relu\"),\n",
        "    keras.layers.Dense(100, activation=\"relu\"),\n",
        "    keras.layers.Dense(10, activation=\"softmax\"),\n",
        "])"
      ],
      "execution_count": 0,
      "outputs": []
    },
    {
      "cell_type": "markdown",
      "metadata": {
        "id": "UmMRbXJQUo5M",
        "colab_type": "text"
      },
      "source": [
        "The first line creates a  Sequential model. This is the simplest kind of Keras model, for neural networks that are just composed of a single stack of layers, connected sequentially. This is called the sequential API.\n",
        "\n",
        "Next, pass a list of layers to the model. The first layer is a  Flatten layer used to convert each input image into a 1D array: if it receives input data X, it computes  X.reshape(-1, 1). This layer does not have any parameters, it is just to do some simple preprocessing. Since it is the first layer, you should specify the input_shape: this does not include the batch size, only the shape of the instances. Alternatively, you could add a  keras.layers.InputLayer as the first layer, setting  shape=[28,28].\n",
        "\n",
        "\n",
        "Next, we add a  Dense hidden layer with 300 neurons. It will use the ReLU activation function. Each  Dense layer manages its weight matrix, containing all the connection weights between the neurons and their inputs. It also manages a vector of bias terms (one per neuron).\n",
        "\n",
        "Next a second  Dense hidden layer with 100 neurons, also using the ReLU activation function. \n",
        "\n",
        "Finally, a  Dense output layer with 10 neurons (one per class), using the softmax activation function (because the classes are exclusive)."
      ]
    },
    {
      "cell_type": "code",
      "metadata": {
        "id": "kSP-NGA7dcsl",
        "colab_type": "code",
        "colab": {}
      },
      "source": [
        ""
      ],
      "execution_count": 0,
      "outputs": []
    },
    {
      "cell_type": "markdown",
      "metadata": {
        "id": "D76fmQPCYx9P",
        "colab_type": "text"
      },
      "source": [
        "The model’s  summary()  method displays all the model’s layers, including each layer’s name, its output shape, and its number of parameters. The summary ends with the total number of parameters, trainable and non-trainable parameters."
      ]
    },
    {
      "cell_type": "code",
      "metadata": {
        "id": "PtK_xPzbdcxM",
        "colab_type": "code",
        "outputId": "76642db4-a27f-43ad-8114-65ee0e9578bf",
        "colab": {
          "base_uri": "https://localhost:8080/",
          "height": 308
        }
      },
      "source": [
        "model.summary()"
      ],
      "execution_count": 7,
      "outputs": [
        {
          "output_type": "stream",
          "text": [
            "Model: \"sequential_2\"\n",
            "_________________________________________________________________\n",
            "Layer (type)                 Output Shape              Param #   \n",
            "=================================================================\n",
            "flatten_2 (Flatten)          (None, 784)               0         \n",
            "_________________________________________________________________\n",
            "dense_4 (Dense)              (None, 300)               235500    \n",
            "_________________________________________________________________\n",
            "dense_5 (Dense)              (None, 100)               30100     \n",
            "_________________________________________________________________\n",
            "dense_6 (Dense)              (None, 10)                1010      \n",
            "=================================================================\n",
            "Total params: 266,610\n",
            "Trainable params: 266,610\n",
            "Non-trainable params: 0\n",
            "_________________________________________________________________\n"
          ],
          "name": "stdout"
        }
      ]
    },
    {
      "cell_type": "markdown",
      "metadata": {
        "id": "vFGTSdzlZ0ea",
        "colab_type": "text"
      },
      "source": [
        "Note that  Dense layers often have a  lot of parameters. For example, the first hidden layer has 784 × 300 connection weights, plus 300 bias terms, which reaches to 235,500 parameters! This gives the model flexibility to fit the training data, but also the model runs the risk of overfitting, especially when you do not have a lot of training data.\n",
        "\n",
        "You can easily get a model's list of layers or all the parameters of a specific layer(for a de4nse layer includes both the connection weight and the bias)."
      ]
    },
    {
      "cell_type": "code",
      "metadata": {
        "id": "XJFdmQhNdczz",
        "colab_type": "code",
        "outputId": "4927019b-712c-4394-9b82-975c75bbe515",
        "colab": {
          "base_uri": "https://localhost:8080/",
          "height": 255
        }
      },
      "source": [
        "print(model.layers)\n",
        "dense_3 = model.layers[3]\n",
        "print(dense_3)\n",
        "weigth, biases = dense_3.get_weights()\n",
        "print(weigth[0:5], biases[0:5])\n"
      ],
      "execution_count": 9,
      "outputs": [
        {
          "output_type": "stream",
          "text": [
            "[<keras.layers.core.Flatten object at 0x7f66e1232908>, <keras.layers.core.Dense object at 0x7f66e12322b0>, <keras.layers.core.Dense object at 0x7f66e1232eb8>, <keras.layers.core.Dense object at 0x7f66e1239080>]\n",
            "<keras.layers.core.Dense object at 0x7f66e1239080>\n",
            "[[-0.08344731  0.05062839 -0.1473903  -0.10197224  0.09504732 -0.177553\n",
            "   0.09958991  0.0007491  -0.0371723   0.13009366]\n",
            " [-0.1858958  -0.19105196 -0.15192553 -0.10910078  0.18888274  0.04740137\n",
            "  -0.08409178 -0.13097033 -0.20229188 -0.12336727]\n",
            " [-0.13278203  0.06738234  0.03454864  0.07392576 -0.21242766  0.07000265\n",
            "   0.18933678  0.12681904  0.20364097 -0.18167685]\n",
            " [-0.08463646  0.1950235   0.1426683   0.08156613  0.06967828  0.04318601\n",
            "   0.17055169 -0.15584442  0.05400521 -0.05336803]\n",
            " [-0.00631903  0.01425207 -0.13982254 -0.13407125  0.12167487  0.07378361\n",
            "   0.1043663   0.01090299  0.18947926 -0.22044963]] [0. 0. 0. 0. 0.]\n"
          ],
          "name": "stdout"
        }
      ]
    },
    {
      "cell_type": "markdown",
      "metadata": {
        "id": "t2OaMkEwv3ig",
        "colab_type": "text"
      },
      "source": [
        "Notice that the Dense layer initialized the connection weights randomly, and biases were initialized to zeros. You can use another initialization method.\n",
        "\n",
        "The shape of the weight matrix depends on the number of inputs. It is recommended to specify the input_saphe when creating the first layer in a Sequential model\n"
      ]
    },
    {
      "cell_type": "code",
      "metadata": {
        "id": "FhFdygkGdcwD",
        "colab_type": "code",
        "colab": {}
      },
      "source": [
        ""
      ],
      "execution_count": 0,
      "outputs": []
    },
    {
      "cell_type": "markdown",
      "metadata": {
        "id": "TrGQrHWPG_Ci",
        "colab_type": "text"
      },
      "source": [
        "### Compiling the model\n",
        "\n",
        "We call compile method to specify the loss function and the optimizer to use. You can specify extra metrics."
      ]
    },
    {
      "cell_type": "code",
      "metadata": {
        "id": "YawwgW4jG6g8",
        "colab_type": "code",
        "outputId": "8fe26812-0fc2-4385-b228-87f799a07e03",
        "colab": {
          "base_uri": "https://localhost:8080/",
          "height": 87
        }
      },
      "source": [
        "model.compile(loss=\"sparse_categorical_crossentropy\",\n",
        "              optimizer=\"sgd\",\n",
        "              metrics=[\"accuracy\"])"
      ],
      "execution_count": 0,
      "outputs": [
        {
          "output_type": "stream",
          "text": [
            "WARNING:tensorflow:From /usr/local/lib/python3.6/dist-packages/keras/optimizers.py:793: The name tf.train.Optimizer is deprecated. Please use tf.compat.v1.train.Optimizer instead.\n",
            "\n",
            "WARNING:tensorflow:From /usr/local/lib/python3.6/dist-packages/keras/backend/tensorflow_backend.py:3622: The name tf.log is deprecated. Please use tf.math.log instead.\n",
            "\n"
          ],
          "name": "stdout"
        }
      ]
    },
    {
      "cell_type": "markdown",
      "metadata": {
        "id": "dumP9hJkxZCl",
        "colab_type": "text"
      },
      "source": [
        "The optimizer \"sgd\" will train the model using simple Stochastic Gradient Descent. Specifically, it will perform the backpropagation algorithm described earlier. There are other efficient optimizers(to improve gradient descent part).\n",
        "We use measure \"accurary\" during training and evaluation for our clasification model"
      ]
    },
    {
      "cell_type": "code",
      "metadata": {
        "id": "OoIZg-WqG67h",
        "colab_type": "code",
        "colab": {}
      },
      "source": [
        ""
      ],
      "execution_count": 0,
      "outputs": []
    },
    {
      "cell_type": "markdown",
      "metadata": {
        "id": "5FmBcI0pHSa6",
        "colab_type": "text"
      },
      "source": [
        "### Training and evaluating the model"
      ]
    },
    {
      "cell_type": "code",
      "metadata": {
        "id": "fLwo-Z5sG6-p",
        "colab_type": "code",
        "outputId": "630e4a3d-3cfc-47fa-f89e-67e5a3b395c8",
        "colab": {
          "base_uri": "https://localhost:8080/",
          "height": 1000
        }
      },
      "source": [
        "history = model.fit(X_train_full, y_train_full, epochs=30, validation_split = 0.2)"
      ],
      "execution_count": 0,
      "outputs": [
        {
          "output_type": "stream",
          "text": [
            "WARNING:tensorflow:From /usr/local/lib/python3.6/dist-packages/tensorflow_core/python/ops/math_grad.py:1424: where (from tensorflow.python.ops.array_ops) is deprecated and will be removed in a future version.\n",
            "Instructions for updating:\n",
            "Use tf.where in 2.0, which has the same broadcast rule as np.where\n",
            "WARNING:tensorflow:From /usr/local/lib/python3.6/dist-packages/keras/backend/tensorflow_backend.py:1033: The name tf.assign_add is deprecated. Please use tf.compat.v1.assign_add instead.\n",
            "\n",
            "WARNING:tensorflow:From /usr/local/lib/python3.6/dist-packages/keras/backend/tensorflow_backend.py:1020: The name tf.assign is deprecated. Please use tf.compat.v1.assign instead.\n",
            "\n",
            "Train on 48000 samples, validate on 12000 samples\n",
            "Epoch 1/30\n",
            "48000/48000 [==============================] - 7s 144us/step - loss: 0.7310 - acc: 0.7572 - val_loss: 0.5187 - val_acc: 0.8193\n",
            "Epoch 2/30\n",
            "48000/48000 [==============================] - 8s 157us/step - loss: 0.5063 - acc: 0.8229 - val_loss: 0.4744 - val_acc: 0.8340\n",
            "Epoch 3/30\n",
            "48000/48000 [==============================] - 8s 162us/step - loss: 0.4669 - acc: 0.8356 - val_loss: 0.4619 - val_acc: 0.8341\n",
            "Epoch 4/30\n",
            "48000/48000 [==============================] - 7s 156us/step - loss: 0.4392 - acc: 0.8457 - val_loss: 0.4334 - val_acc: 0.8495\n",
            "Epoch 5/30\n",
            "48000/48000 [==============================] - 7s 155us/step - loss: 0.4207 - acc: 0.8522 - val_loss: 0.4350 - val_acc: 0.8438\n",
            "Epoch 6/30\n",
            "48000/48000 [==============================] - 7s 151us/step - loss: 0.4078 - acc: 0.8556 - val_loss: 0.4388 - val_acc: 0.8386\n",
            "Epoch 7/30\n",
            "48000/48000 [==============================] - 7s 156us/step - loss: 0.3950 - acc: 0.8614 - val_loss: 0.3986 - val_acc: 0.8578\n",
            "Epoch 8/30\n",
            "48000/48000 [==============================] - 7s 156us/step - loss: 0.3850 - acc: 0.8633 - val_loss: 0.4168 - val_acc: 0.8515\n",
            "Epoch 9/30\n",
            "48000/48000 [==============================] - 7s 149us/step - loss: 0.3753 - acc: 0.8664 - val_loss: 0.4205 - val_acc: 0.8435\n",
            "Epoch 10/30\n",
            "48000/48000 [==============================] - 8s 156us/step - loss: 0.3665 - acc: 0.8688 - val_loss: 0.3753 - val_acc: 0.8666\n",
            "Epoch 11/30\n",
            "48000/48000 [==============================] - 8s 157us/step - loss: 0.3601 - acc: 0.8729 - val_loss: 0.4018 - val_acc: 0.8560\n",
            "Epoch 12/30\n",
            "48000/48000 [==============================] - 7s 156us/step - loss: 0.3505 - acc: 0.8758 - val_loss: 0.3819 - val_acc: 0.8647\n",
            "Epoch 13/30\n",
            "48000/48000 [==============================] - 7s 155us/step - loss: 0.3465 - acc: 0.8760 - val_loss: 0.3532 - val_acc: 0.8726\n",
            "Epoch 14/30\n",
            "48000/48000 [==============================] - 7s 149us/step - loss: 0.3389 - acc: 0.8782 - val_loss: 0.3522 - val_acc: 0.8738\n",
            "Epoch 15/30\n",
            "48000/48000 [==============================] - 7s 154us/step - loss: 0.3324 - acc: 0.8797 - val_loss: 0.3489 - val_acc: 0.8755\n",
            "Epoch 16/30\n",
            "48000/48000 [==============================] - 8s 173us/step - loss: 0.3287 - acc: 0.8808 - val_loss: 0.3480 - val_acc: 0.8742\n",
            "Epoch 17/30\n",
            "48000/48000 [==============================] - 7s 149us/step - loss: 0.3216 - acc: 0.8840 - val_loss: 0.3722 - val_acc: 0.8716\n",
            "Epoch 18/30\n",
            "48000/48000 [==============================] - 7s 156us/step - loss: 0.3165 - acc: 0.8851 - val_loss: 0.3632 - val_acc: 0.8683\n",
            "Epoch 19/30\n",
            "48000/48000 [==============================] - 7s 154us/step - loss: 0.3107 - acc: 0.8875 - val_loss: 0.3490 - val_acc: 0.8748\n",
            "Epoch 20/30\n",
            "48000/48000 [==============================] - 7s 155us/step - loss: 0.3067 - acc: 0.8897 - val_loss: 0.3376 - val_acc: 0.8793\n",
            "Epoch 21/30\n",
            "48000/48000 [==============================] - 7s 154us/step - loss: 0.3004 - acc: 0.8893 - val_loss: 0.3637 - val_acc: 0.8728\n",
            "Epoch 22/30\n",
            "48000/48000 [==============================] - 7s 152us/step - loss: 0.2960 - acc: 0.8923 - val_loss: 0.3399 - val_acc: 0.8782\n",
            "Epoch 23/30\n",
            "48000/48000 [==============================] - 7s 154us/step - loss: 0.2943 - acc: 0.8930 - val_loss: 0.3580 - val_acc: 0.8710\n",
            "Epoch 24/30\n",
            "48000/48000 [==============================] - 8s 157us/step - loss: 0.2882 - acc: 0.8951 - val_loss: 0.3445 - val_acc: 0.8767\n",
            "Epoch 25/30\n",
            "48000/48000 [==============================] - 7s 149us/step - loss: 0.2836 - acc: 0.8971 - val_loss: 0.3515 - val_acc: 0.8766\n",
            "Epoch 26/30\n",
            "48000/48000 [==============================] - 8s 157us/step - loss: 0.2801 - acc: 0.8981 - val_loss: 0.3371 - val_acc: 0.8769\n",
            "Epoch 27/30\n",
            "48000/48000 [==============================] - 8s 156us/step - loss: 0.2764 - acc: 0.8990 - val_loss: 0.3542 - val_acc: 0.8747\n",
            "Epoch 28/30\n",
            "48000/48000 [==============================] - 7s 153us/step - loss: 0.2734 - acc: 0.8989 - val_loss: 0.3284 - val_acc: 0.8808\n",
            "Epoch 29/30\n",
            "48000/48000 [==============================] - 7s 154us/step - loss: 0.2711 - acc: 0.9002 - val_loss: 0.3442 - val_acc: 0.8772\n",
            "Epoch 30/30\n",
            "48000/48000 [==============================] - 7s 152us/step - loss: 0.2660 - acc: 0.9034 - val_loss: 0.3278 - val_acc: 0.8802\n"
          ],
          "name": "stdout"
        }
      ]
    },
    {
      "cell_type": "markdown",
      "metadata": {
        "id": "oeVj0g-czJZB",
        "colab_type": "text"
      },
      "source": [
        "At each epoch during training, Keras displays the number of instances processes, the mean training time per sample, the loss and accuracy both on the training and validation sets"
      ]
    },
    {
      "cell_type": "markdown",
      "metadata": {
        "id": "R953dkr73_R4",
        "colab_type": "text"
      },
      "source": [
        "If training set was unbulanced, with some classes being overrepresented and others underrepresented can be useful to set the class_weight argument when calling the fit() method(giving larger weight to underrepresented classes and a lower weight to overrepresented classes)\n",
        "\n",
        "The fit() method returns a History object which contains the training parameters, list of epochs and a dictionary which contains the loss and extra metrics it measured at the end of each epoch on both training and validation set. We can use this measures to plot the learning curve"
      ]
    },
    {
      "cell_type": "code",
      "metadata": {
        "id": "kuy-FLaMG6eZ",
        "colab_type": "code",
        "colab": {}
      },
      "source": [
        "\n"
      ],
      "execution_count": 0,
      "outputs": []
    },
    {
      "cell_type": "code",
      "metadata": {
        "id": "bMrCRHI2G6cP",
        "colab_type": "code",
        "outputId": "1bb43394-6249-4140-a36a-75cd3bf6be56",
        "colab": {
          "base_uri": "https://localhost:8080/",
          "height": 342
        }
      },
      "source": [
        "import pandas as pd\n",
        "import matplotlib.pyplot as plt\n",
        "\n",
        "\n",
        "pd.DataFrame(history.history).plot(figsize=(8,5))\n",
        "plt.grid(True)\n",
        "plt.gca().set_ylim(0,1)\n",
        "plt.show"
      ],
      "execution_count": 0,
      "outputs": [
        {
          "output_type": "execute_result",
          "data": {
            "text/plain": [
              "<function matplotlib.pyplot.show>"
            ]
          },
          "metadata": {
            "tags": []
          },
          "execution_count": 10
        },
        {
          "output_type": "display_data",
          "data": {
            "image/png": "[encoded data removed]",
            "text/plain": [
              "<Figure size 576x360 with 1 Axes>"
            ]
          },
          "metadata": {
            "tags": []
          }
        }
      ]
    },
    {
      "cell_type": "code",
      "metadata": {
        "id": "r2o1CXsp2LQ7",
        "colab_type": "code",
        "colab": {}
      },
      "source": [
        ""
      ],
      "execution_count": 0,
      "outputs": []
    },
    {
      "cell_type": "markdown",
      "metadata": {
        "id": "UT5kn2P92Lfv",
        "colab_type": "text"
      },
      "source": [
        "We see that both the training and validation accuracy increase during training, while loss decrease. The validation curves are quite close to the training curves, which means that there is not too much overfitting.\n",
        "\n",
        "If you are not satisfied with the performance of the model, you can tune the model's hyperparameter and train the model again. You can modify the number of neurons per layer, the number of layers, the types of activation functiuons for each hidden layer, the number of epochs, the batch size(by default it is 32)"
      ]
    },
    {
      "cell_type": "code",
      "metadata": {
        "id": "WpaCTu7GG6aj",
        "colab_type": "code",
        "colab": {}
      },
      "source": [
        ""
      ],
      "execution_count": 0,
      "outputs": []
    },
    {
      "cell_type": "code",
      "metadata": {
        "id": "BKe2a-DYG6T0",
        "colab_type": "code",
        "colab": {}
      },
      "source": [
        ""
      ],
      "execution_count": 0,
      "outputs": []
    }
  ]
}